{
 "cells": [
  {
   "cell_type": "code",
   "execution_count": 53,
   "metadata": {},
   "outputs": [],
   "source": [
    "import numpy as np\n",
    "import pandas as pd\n",
    "import matplotlib.pyplot as plt\n",
    "%matplotlib inline\n",
    "import seaborn as sns"
   ]
  },
  {
   "cell_type": "code",
   "execution_count": 54,
   "metadata": {},
   "outputs": [],
   "source": [
    "data=pd.read_csv('google_form.csv')"
   ]
  },
  {
   "cell_type": "code",
   "execution_count": 55,
   "metadata": {},
   "outputs": [
    {
     "data": {
      "text/html": [
       "<div>\n",
       "<style scoped>\n",
       "    .dataframe tbody tr th:only-of-type {\n",
       "        vertical-align: middle;\n",
       "    }\n",
       "\n",
       "    .dataframe tbody tr th {\n",
       "        vertical-align: top;\n",
       "    }\n",
       "\n",
       "    .dataframe thead th {\n",
       "        text-align: right;\n",
       "    }\n",
       "</style>\n",
       "<table border=\"1\" class=\"dataframe\">\n",
       "  <thead>\n",
       "    <tr style=\"text-align: right;\">\n",
       "      <th></th>\n",
       "      <th>Age</th>\n",
       "      <th>Experience</th>\n",
       "      <th>Python/R</th>\n",
       "      <th>Statistics</th>\n",
       "      <th>Data Visualisation</th>\n",
       "      <th>Data Wrangling</th>\n",
       "      <th>Machine Learning Algorithm</th>\n",
       "      <th>Average CGPA</th>\n",
       "      <th>Gender</th>\n",
       "      <th>Education</th>\n",
       "      <th>Attrition</th>\n",
       "    </tr>\n",
       "  </thead>\n",
       "  <tbody>\n",
       "    <tr>\n",
       "      <th>0</th>\n",
       "      <td>34</td>\n",
       "      <td>8</td>\n",
       "      <td>4.0</td>\n",
       "      <td>4.0</td>\n",
       "      <td>4.0</td>\n",
       "      <td>3.5</td>\n",
       "      <td>4.0</td>\n",
       "      <td>8.50</td>\n",
       "      <td>M</td>\n",
       "      <td>PHD</td>\n",
       "      <td>77.75</td>\n",
       "    </tr>\n",
       "    <tr>\n",
       "      <th>1</th>\n",
       "      <td>28</td>\n",
       "      <td>5</td>\n",
       "      <td>3.0</td>\n",
       "      <td>2.5</td>\n",
       "      <td>3.5</td>\n",
       "      <td>3.0</td>\n",
       "      <td>3.0</td>\n",
       "      <td>7.80</td>\n",
       "      <td>F</td>\n",
       "      <td>BTECH</td>\n",
       "      <td>65.25</td>\n",
       "    </tr>\n",
       "    <tr>\n",
       "      <th>2</th>\n",
       "      <td>29</td>\n",
       "      <td>4</td>\n",
       "      <td>4.0</td>\n",
       "      <td>4.0</td>\n",
       "      <td>3.5</td>\n",
       "      <td>3.0</td>\n",
       "      <td>4.0</td>\n",
       "      <td>7.50</td>\n",
       "      <td>M</td>\n",
       "      <td>Bachelor in Statics</td>\n",
       "      <td>70.75</td>\n",
       "    </tr>\n",
       "    <tr>\n",
       "      <th>3</th>\n",
       "      <td>36</td>\n",
       "      <td>7</td>\n",
       "      <td>5.0</td>\n",
       "      <td>4.0</td>\n",
       "      <td>5.0</td>\n",
       "      <td>5.0</td>\n",
       "      <td>4.0</td>\n",
       "      <td>9.40</td>\n",
       "      <td>F</td>\n",
       "      <td>Masters in statistics</td>\n",
       "      <td>89.25</td>\n",
       "    </tr>\n",
       "    <tr>\n",
       "      <th>4</th>\n",
       "      <td>27</td>\n",
       "      <td>4</td>\n",
       "      <td>2.5</td>\n",
       "      <td>5.0</td>\n",
       "      <td>3.0</td>\n",
       "      <td>3.0</td>\n",
       "      <td>3.0</td>\n",
       "      <td>6.78</td>\n",
       "      <td>M</td>\n",
       "      <td>MTECH</td>\n",
       "      <td>63.15</td>\n",
       "    </tr>\n",
       "  </tbody>\n",
       "</table>\n",
       "</div>"
      ],
      "text/plain": [
       "   Age   Experience   Python/R  Statistics  Data Visualisation  \\\n",
       "0   34             8       4.0         4.0                 4.0   \n",
       "1   28             5       3.0         2.5                 3.5   \n",
       "2   29             4       4.0         4.0                 3.5   \n",
       "3   36             7       5.0         4.0                 5.0   \n",
       "4   27             4       2.5         5.0                 3.0   \n",
       "\n",
       "   Data Wrangling  Machine Learning Algorithm  Average CGPA Gender  \\\n",
       "0             3.5                         4.0          8.50      M   \n",
       "1             3.0                         3.0          7.80      F   \n",
       "2             3.0                         4.0          7.50      M   \n",
       "3             5.0                         4.0          9.40      F   \n",
       "4             3.0                         3.0          6.78      M   \n",
       "\n",
       "               Education  Attrition  \n",
       "0                    PHD      77.75  \n",
       "1                  BTECH      65.25  \n",
       "2    Bachelor in Statics      70.75  \n",
       "3  Masters in statistics      89.25  \n",
       "4                  MTECH      63.15  "
      ]
     },
     "execution_count": 55,
     "metadata": {},
     "output_type": "execute_result"
    }
   ],
   "source": [
    "data.head()"
   ]
  },
  {
   "cell_type": "code",
   "execution_count": 56,
   "metadata": {},
   "outputs": [
    {
     "data": {
      "text/html": [
       "<div>\n",
       "<style scoped>\n",
       "    .dataframe tbody tr th:only-of-type {\n",
       "        vertical-align: middle;\n",
       "    }\n",
       "\n",
       "    .dataframe tbody tr th {\n",
       "        vertical-align: top;\n",
       "    }\n",
       "\n",
       "    .dataframe thead th {\n",
       "        text-align: right;\n",
       "    }\n",
       "</style>\n",
       "<table border=\"1\" class=\"dataframe\">\n",
       "  <thead>\n",
       "    <tr style=\"text-align: right;\">\n",
       "      <th></th>\n",
       "      <th>Python/R</th>\n",
       "      <th>Statistics</th>\n",
       "      <th>Data Visualisation</th>\n",
       "      <th>Data Wrangling</th>\n",
       "      <th>Machine Learning Algorithm</th>\n",
       "      <th>Average CGPA</th>\n",
       "      <th>Attrition</th>\n",
       "    </tr>\n",
       "  </thead>\n",
       "  <tbody>\n",
       "    <tr>\n",
       "      <th>Python/R</th>\n",
       "      <td>1.000000</td>\n",
       "      <td>0.434339</td>\n",
       "      <td>0.699179</td>\n",
       "      <td>0.742801</td>\n",
       "      <td>0.721131</td>\n",
       "      <td>0.536785</td>\n",
       "      <td>0.803719</td>\n",
       "    </tr>\n",
       "    <tr>\n",
       "      <th>Statistics</th>\n",
       "      <td>0.434339</td>\n",
       "      <td>1.000000</td>\n",
       "      <td>0.333479</td>\n",
       "      <td>0.434086</td>\n",
       "      <td>0.694747</td>\n",
       "      <td>-0.013166</td>\n",
       "      <td>0.419674</td>\n",
       "    </tr>\n",
       "    <tr>\n",
       "      <th>Data Visualisation</th>\n",
       "      <td>0.699179</td>\n",
       "      <td>0.333479</td>\n",
       "      <td>1.000000</td>\n",
       "      <td>0.756996</td>\n",
       "      <td>0.540398</td>\n",
       "      <td>0.560838</td>\n",
       "      <td>0.757173</td>\n",
       "    </tr>\n",
       "    <tr>\n",
       "      <th>Data Wrangling</th>\n",
       "      <td>0.742801</td>\n",
       "      <td>0.434086</td>\n",
       "      <td>0.756996</td>\n",
       "      <td>1.000000</td>\n",
       "      <td>0.639011</td>\n",
       "      <td>0.572843</td>\n",
       "      <td>0.773803</td>\n",
       "    </tr>\n",
       "    <tr>\n",
       "      <th>Machine Learning Algorithm</th>\n",
       "      <td>0.721131</td>\n",
       "      <td>0.694747</td>\n",
       "      <td>0.540398</td>\n",
       "      <td>0.639011</td>\n",
       "      <td>1.000000</td>\n",
       "      <td>0.401124</td>\n",
       "      <td>0.695932</td>\n",
       "    </tr>\n",
       "    <tr>\n",
       "      <th>Average CGPA</th>\n",
       "      <td>0.536785</td>\n",
       "      <td>-0.013166</td>\n",
       "      <td>0.560838</td>\n",
       "      <td>0.572843</td>\n",
       "      <td>0.401124</td>\n",
       "      <td>1.000000</td>\n",
       "      <td>0.790395</td>\n",
       "    </tr>\n",
       "    <tr>\n",
       "      <th>Attrition</th>\n",
       "      <td>0.803719</td>\n",
       "      <td>0.419674</td>\n",
       "      <td>0.757173</td>\n",
       "      <td>0.773803</td>\n",
       "      <td>0.695932</td>\n",
       "      <td>0.790395</td>\n",
       "      <td>1.000000</td>\n",
       "    </tr>\n",
       "  </tbody>\n",
       "</table>\n",
       "</div>"
      ],
      "text/plain": [
       "                            Python/R  Statistics  Data Visualisation  \\\n",
       "Python/R                    1.000000    0.434339            0.699179   \n",
       "Statistics                  0.434339    1.000000            0.333479   \n",
       "Data Visualisation          0.699179    0.333479            1.000000   \n",
       "Data Wrangling              0.742801    0.434086            0.756996   \n",
       "Machine Learning Algorithm  0.721131    0.694747            0.540398   \n",
       "Average CGPA                0.536785   -0.013166            0.560838   \n",
       "Attrition                   0.803719    0.419674            0.757173   \n",
       "\n",
       "                            Data Wrangling  Machine Learning Algorithm  \\\n",
       "Python/R                          0.742801                    0.721131   \n",
       "Statistics                        0.434086                    0.694747   \n",
       "Data Visualisation                0.756996                    0.540398   \n",
       "Data Wrangling                    1.000000                    0.639011   \n",
       "Machine Learning Algorithm        0.639011                    1.000000   \n",
       "Average CGPA                      0.572843                    0.401124   \n",
       "Attrition                         0.773803                    0.695932   \n",
       "\n",
       "                            Average CGPA  Attrition  \n",
       "Python/R                        0.536785   0.803719  \n",
       "Statistics                     -0.013166   0.419674  \n",
       "Data Visualisation              0.560838   0.757173  \n",
       "Data Wrangling                  0.572843   0.773803  \n",
       "Machine Learning Algorithm      0.401124   0.695932  \n",
       "Average CGPA                    1.000000   0.790395  \n",
       "Attrition                       0.790395   1.000000  "
      ]
     },
     "execution_count": 56,
     "metadata": {},
     "output_type": "execute_result"
    }
   ],
   "source": [
    "data.iloc[:,2:].corr()"
   ]
  },
  {
   "cell_type": "code",
   "execution_count": 57,
   "metadata": {},
   "outputs": [
    {
     "data": {
      "text/html": [
       "<div>\n",
       "<style scoped>\n",
       "    .dataframe tbody tr th:only-of-type {\n",
       "        vertical-align: middle;\n",
       "    }\n",
       "\n",
       "    .dataframe tbody tr th {\n",
       "        vertical-align: top;\n",
       "    }\n",
       "\n",
       "    .dataframe thead th {\n",
       "        text-align: right;\n",
       "    }\n",
       "</style>\n",
       "<table border=\"1\" class=\"dataframe\">\n",
       "  <thead>\n",
       "    <tr style=\"text-align: right;\">\n",
       "      <th></th>\n",
       "      <th>Experience</th>\n",
       "      <th>Python/R</th>\n",
       "      <th>Statistics</th>\n",
       "      <th>Data Visualisation</th>\n",
       "      <th>Data Wrangling</th>\n",
       "      <th>Machine Learning Algorithm</th>\n",
       "      <th>Average CGPA</th>\n",
       "      <th>Attrition</th>\n",
       "    </tr>\n",
       "  </thead>\n",
       "  <tbody>\n",
       "    <tr>\n",
       "      <th>count</th>\n",
       "      <td>19.000000</td>\n",
       "      <td>19.000000</td>\n",
       "      <td>19.000000</td>\n",
       "      <td>19.000000</td>\n",
       "      <td>19.000000</td>\n",
       "      <td>19.000000</td>\n",
       "      <td>19.000000</td>\n",
       "      <td>19.000000</td>\n",
       "    </tr>\n",
       "    <tr>\n",
       "      <th>mean</th>\n",
       "      <td>5.263158</td>\n",
       "      <td>3.721053</td>\n",
       "      <td>3.605263</td>\n",
       "      <td>3.763158</td>\n",
       "      <td>3.700000</td>\n",
       "      <td>3.526316</td>\n",
       "      <td>7.997368</td>\n",
       "      <td>73.571053</td>\n",
       "    </tr>\n",
       "    <tr>\n",
       "      <th>std</th>\n",
       "      <td>2.077448</td>\n",
       "      <td>0.767810</td>\n",
       "      <td>0.859246</td>\n",
       "      <td>0.770433</td>\n",
       "      <td>0.819214</td>\n",
       "      <td>0.716350</td>\n",
       "      <td>0.710781</td>\n",
       "      <td>7.977822</td>\n",
       "    </tr>\n",
       "    <tr>\n",
       "      <th>min</th>\n",
       "      <td>1.000000</td>\n",
       "      <td>2.000000</td>\n",
       "      <td>2.000000</td>\n",
       "      <td>3.000000</td>\n",
       "      <td>2.500000</td>\n",
       "      <td>2.000000</td>\n",
       "      <td>6.750000</td>\n",
       "      <td>63.150000</td>\n",
       "    </tr>\n",
       "    <tr>\n",
       "      <th>25%</th>\n",
       "      <td>4.000000</td>\n",
       "      <td>3.250000</td>\n",
       "      <td>3.250000</td>\n",
       "      <td>3.000000</td>\n",
       "      <td>3.000000</td>\n",
       "      <td>3.000000</td>\n",
       "      <td>7.465000</td>\n",
       "      <td>67.025000</td>\n",
       "    </tr>\n",
       "    <tr>\n",
       "      <th>50%</th>\n",
       "      <td>6.000000</td>\n",
       "      <td>4.000000</td>\n",
       "      <td>4.000000</td>\n",
       "      <td>3.500000</td>\n",
       "      <td>3.500000</td>\n",
       "      <td>4.000000</td>\n",
       "      <td>7.980000</td>\n",
       "      <td>71.750000</td>\n",
       "    </tr>\n",
       "    <tr>\n",
       "      <th>75%</th>\n",
       "      <td>7.000000</td>\n",
       "      <td>4.000000</td>\n",
       "      <td>4.000000</td>\n",
       "      <td>4.000000</td>\n",
       "      <td>4.000000</td>\n",
       "      <td>4.000000</td>\n",
       "      <td>8.505000</td>\n",
       "      <td>78.050000</td>\n",
       "    </tr>\n",
       "    <tr>\n",
       "      <th>max</th>\n",
       "      <td>8.000000</td>\n",
       "      <td>5.000000</td>\n",
       "      <td>5.000000</td>\n",
       "      <td>5.000000</td>\n",
       "      <td>5.000000</td>\n",
       "      <td>5.000000</td>\n",
       "      <td>9.400000</td>\n",
       "      <td>90.800000</td>\n",
       "    </tr>\n",
       "  </tbody>\n",
       "</table>\n",
       "</div>"
      ],
      "text/plain": [
       "        Experience    Python/R  Statistics  Data Visualisation  \\\n",
       "count     19.000000  19.000000   19.000000           19.000000   \n",
       "mean       5.263158   3.721053    3.605263            3.763158   \n",
       "std        2.077448   0.767810    0.859246            0.770433   \n",
       "min        1.000000   2.000000    2.000000            3.000000   \n",
       "25%        4.000000   3.250000    3.250000            3.000000   \n",
       "50%        6.000000   4.000000    4.000000            3.500000   \n",
       "75%        7.000000   4.000000    4.000000            4.000000   \n",
       "max        8.000000   5.000000    5.000000            5.000000   \n",
       "\n",
       "       Data Wrangling  Machine Learning Algorithm  Average CGPA  Attrition  \n",
       "count       19.000000                   19.000000     19.000000  19.000000  \n",
       "mean         3.700000                    3.526316      7.997368  73.571053  \n",
       "std          0.819214                    0.716350      0.710781   7.977822  \n",
       "min          2.500000                    2.000000      6.750000  63.150000  \n",
       "25%          3.000000                    3.000000      7.465000  67.025000  \n",
       "50%          3.500000                    4.000000      7.980000  71.750000  \n",
       "75%          4.000000                    4.000000      8.505000  78.050000  \n",
       "max          5.000000                    5.000000      9.400000  90.800000  "
      ]
     },
     "execution_count": 57,
     "metadata": {},
     "output_type": "execute_result"
    }
   ],
   "source": [
    "data.iloc[:,1:].describe()"
   ]
  },
  {
   "cell_type": "code",
   "execution_count": 58,
   "metadata": {},
   "outputs": [
    {
     "data": {
      "text/plain": [
       "(19, 11)"
      ]
     },
     "execution_count": 58,
     "metadata": {},
     "output_type": "execute_result"
    }
   ],
   "source": [
    "data.shape"
   ]
  },
  {
   "cell_type": "code",
   "execution_count": 59,
   "metadata": {},
   "outputs": [
    {
     "data": {
      "text/plain": [
       "<bound method DataFrame.any of       Age   Experience   Python/R  Statistics  Data Visualisation  \\\n",
       "0   False         False     False       False               False   \n",
       "1   False         False     False       False               False   \n",
       "2   False         False     False       False               False   \n",
       "3   False         False     False       False               False   \n",
       "4   False         False     False       False               False   \n",
       "5   False         False     False       False               False   \n",
       "6   False         False     False       False               False   \n",
       "7   False         False     False       False               False   \n",
       "8   False         False     False       False               False   \n",
       "9   False         False     False       False               False   \n",
       "10  False         False     False       False               False   \n",
       "11  False         False     False       False               False   \n",
       "12  False         False     False       False               False   \n",
       "13  False         False     False       False               False   \n",
       "14  False         False     False       False               False   \n",
       "15  False         False     False       False               False   \n",
       "16  False         False     False       False               False   \n",
       "17  False         False     False       False               False   \n",
       "18  False         False     False       False               False   \n",
       "\n",
       "    Data Wrangling  Machine Learning Algorithm  Average CGPA  Gender  \\\n",
       "0            False                       False         False   False   \n",
       "1            False                       False         False   False   \n",
       "2            False                       False         False   False   \n",
       "3            False                       False         False   False   \n",
       "4            False                       False         False   False   \n",
       "5            False                       False         False   False   \n",
       "6            False                       False         False   False   \n",
       "7            False                       False         False   False   \n",
       "8            False                       False         False   False   \n",
       "9            False                       False         False   False   \n",
       "10           False                       False         False   False   \n",
       "11           False                       False         False   False   \n",
       "12           False                       False         False   False   \n",
       "13           False                       False         False   False   \n",
       "14           False                       False         False   False   \n",
       "15           False                       False         False   False   \n",
       "16           False                       False         False   False   \n",
       "17           False                       False         False   False   \n",
       "18           False                       False         False   False   \n",
       "\n",
       "    Education  Attrition  \n",
       "0       False      False  \n",
       "1       False      False  \n",
       "2       False      False  \n",
       "3       False      False  \n",
       "4       False      False  \n",
       "5       False      False  \n",
       "6       False      False  \n",
       "7       False      False  \n",
       "8       False      False  \n",
       "9       False      False  \n",
       "10      False      False  \n",
       "11      False      False  \n",
       "12      False      False  \n",
       "13      False      False  \n",
       "14      False      False  \n",
       "15      False      False  \n",
       "16      False      False  \n",
       "17      False      False  \n",
       "18      False      False  >"
      ]
     },
     "execution_count": 59,
     "metadata": {},
     "output_type": "execute_result"
    }
   ],
   "source": [
    "data.isnull().any"
   ]
  },
  {
   "cell_type": "code",
   "execution_count": 60,
   "metadata": {},
   "outputs": [],
   "source": [
    "data=data.fillna(method='ffill')"
   ]
  },
  {
   "cell_type": "code",
   "execution_count": 61,
   "metadata": {},
   "outputs": [
    {
     "data": {
      "text/plain": [
       "Python/R                      14\n",
       "Statistics                    14\n",
       "Data Visualisation            14\n",
       "Data Wrangling                14\n",
       "Machine Learning Algorithm    14\n",
       "Average CGPA                  14\n",
       "Gender                        14\n",
       "Education                     14\n",
       "Attrition                     14\n",
       "dtype: int64"
      ]
     },
     "execution_count": 61,
     "metadata": {},
     "output_type": "execute_result"
    }
   ],
   "source": [
    "data.iloc[:,2:][data['Python/R']>3].count()"
   ]
  },
  {
   "cell_type": "code",
   "execution_count": 62,
   "metadata": {},
   "outputs": [
    {
     "data": {
      "text/plain": [
       "Python/R                      11\n",
       "Statistics                    11\n",
       "Data Visualisation            11\n",
       "Data Wrangling                11\n",
       "Machine Learning Algorithm    11\n",
       "Average CGPA                  11\n",
       "Gender                        11\n",
       "Education                     11\n",
       "Attrition                     11\n",
       "dtype: int64"
      ]
     },
     "execution_count": 62,
     "metadata": {},
     "output_type": "execute_result"
    }
   ],
   "source": [
    "data.iloc[:,2:][data['Statistics']>3.5].count()"
   ]
  },
  {
   "cell_type": "markdown",
   "metadata": {},
   "source": [
    "Checking data containing outliers or not"
   ]
  },
  {
   "cell_type": "code",
   "execution_count": 63,
   "metadata": {},
   "outputs": [
    {
     "data": {
      "text/plain": [
       "0.2210526315789476"
      ]
     },
     "execution_count": 63,
     "metadata": {},
     "output_type": "execute_result"
    }
   ],
   "source": [
    "data['Python/R'].mean()-data['Data Visualisation'].median()"
   ]
  },
  {
   "cell_type": "code",
   "execution_count": 64,
   "metadata": {},
   "outputs": [
    {
     "data": {
      "text/plain": [
       "0.3947368421052633"
      ]
     },
     "execution_count": 64,
     "metadata": {},
     "output_type": "execute_result"
    }
   ],
   "source": [
    "abs(data['Statistics'].mean()-data['Statistics'].median())"
   ]
  },
  {
   "cell_type": "code",
   "execution_count": 65,
   "metadata": {},
   "outputs": [
    {
     "data": {
      "text/plain": [
       "Text(0.5, 1.0, 'Skills with rating for each candidate')"
      ]
     },
     "execution_count": 65,
     "metadata": {},
     "output_type": "execute_result"
    },
    {
     "data": {
      "text/plain": [
       "<Figure size 2880x720 with 0 Axes>"
      ]
     },
     "metadata": {},
     "output_type": "display_data"
    },
    {
     "data": {
      "image/png": "[encoded data removed]",
      "text/plain": [
       "<Figure size 432x288 with 1 Axes>"
      ]
     },
     "metadata": {
      "needs_background": "light"
     },
     "output_type": "display_data"
    }
   ],
   "source": [
    "plt.figure(figsize=(40,10))\n",
    "data.iloc[:,2:].plot(kind='bar')\n",
    "plt.xlabel(\"Skills\")\n",
    "plt.ylabel(\"overall rating\")\n",
    "plt.title(\"Skills with rating for each candidate\")"
   ]
  },
  {
   "cell_type": "code",
   "execution_count": 66,
   "metadata": {},
   "outputs": [
    {
     "data": {
      "text/plain": [
       "<matplotlib.axes._subplots.AxesSubplot at 0x7f76e24af668>"
      ]
     },
     "execution_count": 66,
     "metadata": {},
     "output_type": "execute_result"
    },
    {
     "data": {
      "image/png": "[encoded data removed]",
      "text/plain": [
       "<Figure size 720x720 with 5 Axes>"
      ]
     },
     "metadata": {
      "needs_background": "light"
     },
     "output_type": "display_data"
    }
   ],
   "source": [
    "plt.figure(figsize=(10,10))\n",
    "plt.subplot(3,2,1)\n",
    "sns.countplot(y=data['Statistics'],data=data)\n",
    "plt.subplot(3,2,2)\n",
    "sns.countplot(y=data['Python/R'],data=data)\n",
    "plt.subplot(3,2,3)\n",
    "sns.countplot(y=data['Data Visualisation'],data=data)\n",
    "plt.subplot(3,2,4)\n",
    "sns.countplot(y=data['Data Wrangling'],data=data)\n",
    "plt.subplot(3,2,5)\n",
    "sns.countplot(y=data['Machine Learning Algorithm'],data=data)"
   ]
  },
  {
   "cell_type": "code",
   "execution_count": 67,
   "metadata": {},
   "outputs": [
    {
     "data": {
      "text/plain": [
       "<matplotlib.legend.Legend at 0x7f76e22f69b0>"
      ]
     },
     "execution_count": 67,
     "metadata": {},
     "output_type": "execute_result"
    },
    {
     "data": {
      "image/png": "[encoded data removed]",
      "text/plain": [
       "<Figure size 720x720 with 4 Axes>"
      ]
     },
     "metadata": {
      "needs_background": "light"
     },
     "output_type": "display_data"
    }
   ],
   "source": [
    "plt.figure(figsize=(10,10))\n",
    "plt.subplot(2,2,1)\n",
    "plt.scatter(data['Python/R'],data['Statistics'],label='Rating',color='r')\n",
    "plt.xlabel(\"Python/R\")\n",
    "plt.ylabel(\"Statistics\")\n",
    "plt.title(\"python/R vs Statistics\")\n",
    "plt.legend()\n",
    "plt.subplot(2,2,2)\n",
    "plt.scatter(data[\"Python/R\"],data[\"Data Visualisation\"],label=\"Rating\",color='b')\n",
    "plt.xlabel(\"Python/R\")\n",
    "plt.ylabel(\"Data Visualisation\")\n",
    "plt.title(\"Python/R vs Data Visualisation\")\n",
    "plt.legend()\n",
    "plt.subplot(2,2,3)\n",
    "plt.scatter(data[\"Python/R\"],data[\"Data Wrangling\"],label=\"Rating\",color='g')\n",
    "plt.xlabel(\"Python/R\")\n",
    "plt.ylabel(\"Data Wrangling\")\n",
    "plt.title(\"Python/R vs Data Wrangling\")\n",
    "plt.legend()\n",
    "plt.subplot(2,2,4)\n",
    "plt.scatter(data[\"Python/R\"],data[\"Machine Learning Algorithm\"],label=\"Rating\",color='brown')\n",
    "plt.xlabel(\"Python/R\")\n",
    "plt.ylabel(\"Machine Learning Algorithm\")\n",
    "plt.title(\"Python/R vs Machine Learning Algorithm\")\n",
    "plt.legend()"
   ]
  },
  {
   "cell_type": "code",
   "execution_count": 68,
   "metadata": {},
   "outputs": [
    {
     "data": {
      "text/plain": [
       "<matplotlib.legend.Legend at 0x7f76e2236fd0>"
      ]
     },
     "execution_count": 68,
     "metadata": {},
     "output_type": "execute_result"
    },
    {
     "data": {
      "image/png": "[encoded data removed]",
      "text/plain": [
       "<Figure size 720x360 with 1 Axes>"
      ]
     },
     "metadata": {
      "needs_background": "light"
     },
     "output_type": "display_data"
    }
   ],
   "source": [
    "plt.figure(figsize=(10,5))\n",
    "plt.hist(data[\"Python/R\"],normed=True,alpha=0.5,label=\"Python/R\")\n",
    "plt.hist(data[\"Data Visualisation\"],normed=True,alpha=0.5,label=\"Data Visualisation\")\n",
    "plt.hist(data[\"Data Wrangling\"],normed=True,alpha=0.5,label=\"Data Wrangling\")\n",
    "plt.hist(data[\"Machine Learning Algorithm\"],normed=True,alpha=0.5,label=\"Machine Learning Algorithm\")\n",
    "plt.legend()"
   ]
  },
  {
   "cell_type": "code",
   "execution_count": 69,
   "metadata": {},
   "outputs": [
    {
     "data": {
      "text/plain": [
       "Text(0.5, 1.0, 'Years Of Experience vs Machine Learning Algorithm')"
      ]
     },
     "execution_count": 69,
     "metadata": {},
     "output_type": "execute_result"
    },
    {
     "data": {
      "image/png": "[encoded data removed]",
      "text/plain": [
       "<Figure size 1440x720 with 5 Axes>"
      ]
     },
     "metadata": {
      "needs_background": "light"
     },
     "output_type": "display_data"
    }
   ],
   "source": [
    "plt.figure(figsize=(20,10))\n",
    "plt.subplot(2,3,1)\n",
    "plt.bar(height=data.iloc[:,0],x=data.iloc[:,1])\n",
    "plt.xlabel(\"Years of Experience\")\n",
    "plt.ylabel(\"Age of Candidate\")\n",
    "plt.title(\"Age of Candidate vs Years of Experience\")\n",
    "plt.subplot(2,3,2)\n",
    "plt.bar(height=data.iloc[:,2],x=data.iloc[:,1],color='r')\n",
    "plt.xlabel(\"Years of Experience\")\n",
    "plt.ylabel(\"Rating of Python/R upto 5\")\n",
    "plt.title(\"Python/R vs Years of Experience\")\n",
    "plt.subplot(2,3,3)\n",
    "plt.bar(height=data[\"Data Visualisation\"],x=data.iloc[:,1],color='g')\n",
    "plt.xlabel(\"Years of Experience\")\n",
    "plt.ylabel(\"Rationg of Data Visualisation\")\n",
    "plt.title(\"Data Visualisation Vs Years of Experience\")\n",
    "plt.subplot(2,3,4)\n",
    "plt.bar(height=data[\"Data Wrangling\"],x=data.iloc[:,1],color='brown')\n",
    "plt.xlabel(\"Years of Experience\")\n",
    "plt.ylabel(\"Rating of Data Wrangling\")\n",
    "plt.title(\"Years of Experience Vs Rating of Data Wrangling\")\n",
    "plt.subplot(2,3,5)\n",
    "plt.bar(height=data[\"Machine Learning Algorithm\"],x=data.iloc[:,1],color=\"pink\")\n",
    "plt.xlabel(\"Years of Experience\")\n",
    "plt.ylabel(\"Machine Learning Algorithm \")\n",
    "plt.title(\"Years Of Experience vs Machine Learning Algorithm\")"
   ]
  },
  {
   "cell_type": "markdown",
   "metadata": {},
   "source": [
    "Candidates having experience greater than 5 years"
   ]
  },
  {
   "cell_type": "code",
   "execution_count": 70,
   "metadata": {},
   "outputs": [
    {
     "data": {
      "text/plain": [
       "11"
      ]
     },
     "execution_count": 70,
     "metadata": {},
     "output_type": "execute_result"
    }
   ],
   "source": [
    "data.iloc[:,1][data.iloc[:,1]>5].count()"
   ]
  },
  {
   "cell_type": "raw",
   "metadata": {},
   "source": [
    "# Candidates rated himself with >3.5 in skills"
   ]
  },
  {
   "cell_type": "code",
   "execution_count": 71,
   "metadata": {},
   "outputs": [
    {
     "data": {
      "text/plain": [
       "12"
      ]
     },
     "execution_count": 71,
     "metadata": {},
     "output_type": "execute_result"
    }
   ],
   "source": [
    "data.iloc[:,2][data['Python/R']>3.5].count()"
   ]
  },
  {
   "cell_type": "code",
   "execution_count": 72,
   "metadata": {},
   "outputs": [
    {
     "data": {
      "text/plain": [
       "9"
      ]
     },
     "execution_count": 72,
     "metadata": {},
     "output_type": "execute_result"
    }
   ],
   "source": [
    "data.iloc[:,3][data['Data Visualisation']>3.5].count()"
   ]
  },
  {
   "cell_type": "code",
   "execution_count": 73,
   "metadata": {},
   "outputs": [
    {
     "data": {
      "text/plain": [
       "9"
      ]
     },
     "execution_count": 73,
     "metadata": {},
     "output_type": "execute_result"
    }
   ],
   "source": [
    "data.iloc[:,4][data['Data Wrangling']>3.5].count()"
   ]
  },
  {
   "cell_type": "code",
   "execution_count": 74,
   "metadata": {},
   "outputs": [
    {
     "data": {
      "text/plain": [
       "10"
      ]
     },
     "execution_count": 74,
     "metadata": {},
     "output_type": "execute_result"
    }
   ],
   "source": [
    "data.iloc[:, 5][data['Machine Learning Algorithm']>3.5].count()"
   ]
  },
  {
   "cell_type": "code",
   "execution_count": 75,
   "metadata": {},
   "outputs": [
    {
     "data": {
      "text/plain": [
       "Age                              32\n",
       " Experience                       6\n",
       "Python/R                          4\n",
       "Statistics                        4\n",
       "Data Visualisation                4\n",
       "Data Wrangling                    4\n",
       "Machine Learning Algorithm        4\n",
       "Average CGPA                   7.89\n",
       "Gender                            M\n",
       "Education                     BTECH\n",
       "Attrition                      75.7\n",
       "Name: 5, dtype: object"
      ]
     },
     "execution_count": 75,
     "metadata": {},
     "output_type": "execute_result"
    }
   ],
   "source": [
    "data.loc[data.iloc[:,2].max()]"
   ]
  },
  {
   "cell_type": "code",
   "execution_count": 76,
   "metadata": {},
   "outputs": [
    {
     "data": {
      "text/html": [
       "<div>\n",
       "<style scoped>\n",
       "    .dataframe tbody tr th:only-of-type {\n",
       "        vertical-align: middle;\n",
       "    }\n",
       "\n",
       "    .dataframe tbody tr th {\n",
       "        vertical-align: top;\n",
       "    }\n",
       "\n",
       "    .dataframe thead th {\n",
       "        text-align: right;\n",
       "    }\n",
       "</style>\n",
       "<table border=\"1\" class=\"dataframe\">\n",
       "  <thead>\n",
       "    <tr style=\"text-align: right;\">\n",
       "      <th></th>\n",
       "      <th>Age</th>\n",
       "      <th>Experience</th>\n",
       "      <th>Python/R</th>\n",
       "      <th>Statistics</th>\n",
       "      <th>Data Visualisation</th>\n",
       "      <th>Data Wrangling</th>\n",
       "      <th>Machine Learning Algorithm</th>\n",
       "      <th>Average CGPA</th>\n",
       "      <th>Gender</th>\n",
       "      <th>Education</th>\n",
       "      <th>Attrition</th>\n",
       "    </tr>\n",
       "  </thead>\n",
       "  <tbody>\n",
       "    <tr>\n",
       "      <th>4</th>\n",
       "      <td>27</td>\n",
       "      <td>4</td>\n",
       "      <td>2.5</td>\n",
       "      <td>5.0</td>\n",
       "      <td>3.0</td>\n",
       "      <td>3.0</td>\n",
       "      <td>3.0</td>\n",
       "      <td>6.78</td>\n",
       "      <td>M</td>\n",
       "      <td>MTECH</td>\n",
       "      <td>63.15</td>\n",
       "    </tr>\n",
       "    <tr>\n",
       "      <th>12</th>\n",
       "      <td>38</td>\n",
       "      <td>7</td>\n",
       "      <td>5.0</td>\n",
       "      <td>5.0</td>\n",
       "      <td>5.0</td>\n",
       "      <td>5.0</td>\n",
       "      <td>5.0</td>\n",
       "      <td>8.91</td>\n",
       "      <td>F</td>\n",
       "      <td>Bachelor in Statics</td>\n",
       "      <td>90.80</td>\n",
       "    </tr>\n",
       "  </tbody>\n",
       "</table>\n",
       "</div>"
      ],
      "text/plain": [
       "    Age   Experience   Python/R  Statistics  Data Visualisation  \\\n",
       "4    27             4       2.5         5.0                 3.0   \n",
       "12   38             7       5.0         5.0                 5.0   \n",
       "\n",
       "    Data Wrangling  Machine Learning Algorithm  Average CGPA Gender  \\\n",
       "4              3.0                         3.0          6.78      M   \n",
       "12             5.0                         5.0          8.91      F   \n",
       "\n",
       "              Education  Attrition  \n",
       "4                 MTECH      63.15  \n",
       "12  Bachelor in Statics      90.80  "
      ]
     },
     "execution_count": 76,
     "metadata": {},
     "output_type": "execute_result"
    }
   ],
   "source": [
    "data[data['Statistics']>=5]"
   ]
  },
  {
   "cell_type": "raw",
   "metadata": {},
   "source": [
    "Implementing Machine Learning Model having classification Problem"
   ]
  },
  {
   "cell_type": "code",
   "execution_count": 77,
   "metadata": {},
   "outputs": [
    {
     "data": {
      "text/html": [
       "<div>\n",
       "<style scoped>\n",
       "    .dataframe tbody tr th:only-of-type {\n",
       "        vertical-align: middle;\n",
       "    }\n",
       "\n",
       "    .dataframe tbody tr th {\n",
       "        vertical-align: top;\n",
       "    }\n",
       "\n",
       "    .dataframe thead th {\n",
       "        text-align: right;\n",
       "    }\n",
       "</style>\n",
       "<table border=\"1\" class=\"dataframe\">\n",
       "  <thead>\n",
       "    <tr style=\"text-align: right;\">\n",
       "      <th></th>\n",
       "      <th>Age</th>\n",
       "      <th>Experience</th>\n",
       "      <th>Python/R</th>\n",
       "      <th>Statistics</th>\n",
       "      <th>Data Visualisation</th>\n",
       "      <th>Data Wrangling</th>\n",
       "      <th>Machine Learning Algorithm</th>\n",
       "      <th>Average CGPA</th>\n",
       "      <th>Gender</th>\n",
       "      <th>Education</th>\n",
       "      <th>Attrition</th>\n",
       "    </tr>\n",
       "  </thead>\n",
       "  <tbody>\n",
       "    <tr>\n",
       "      <th>0</th>\n",
       "      <td>34</td>\n",
       "      <td>8</td>\n",
       "      <td>4.0</td>\n",
       "      <td>4.0</td>\n",
       "      <td>4.0</td>\n",
       "      <td>3.5</td>\n",
       "      <td>4.0</td>\n",
       "      <td>8.50</td>\n",
       "      <td>M</td>\n",
       "      <td>PHD</td>\n",
       "      <td>77.75</td>\n",
       "    </tr>\n",
       "    <tr>\n",
       "      <th>3</th>\n",
       "      <td>36</td>\n",
       "      <td>7</td>\n",
       "      <td>5.0</td>\n",
       "      <td>4.0</td>\n",
       "      <td>5.0</td>\n",
       "      <td>5.0</td>\n",
       "      <td>4.0</td>\n",
       "      <td>9.40</td>\n",
       "      <td>F</td>\n",
       "      <td>Masters in statistics</td>\n",
       "      <td>89.25</td>\n",
       "    </tr>\n",
       "    <tr>\n",
       "      <th>5</th>\n",
       "      <td>32</td>\n",
       "      <td>6</td>\n",
       "      <td>4.0</td>\n",
       "      <td>4.0</td>\n",
       "      <td>4.0</td>\n",
       "      <td>4.0</td>\n",
       "      <td>4.0</td>\n",
       "      <td>7.89</td>\n",
       "      <td>M</td>\n",
       "      <td>BTECH</td>\n",
       "      <td>75.70</td>\n",
       "    </tr>\n",
       "    <tr>\n",
       "      <th>7</th>\n",
       "      <td>35</td>\n",
       "      <td>7</td>\n",
       "      <td>4.0</td>\n",
       "      <td>3.5</td>\n",
       "      <td>5.0</td>\n",
       "      <td>5.0</td>\n",
       "      <td>4.0</td>\n",
       "      <td>8.42</td>\n",
       "      <td>F</td>\n",
       "      <td>PHD</td>\n",
       "      <td>78.35</td>\n",
       "    </tr>\n",
       "    <tr>\n",
       "      <th>12</th>\n",
       "      <td>38</td>\n",
       "      <td>7</td>\n",
       "      <td>5.0</td>\n",
       "      <td>5.0</td>\n",
       "      <td>5.0</td>\n",
       "      <td>5.0</td>\n",
       "      <td>5.0</td>\n",
       "      <td>8.91</td>\n",
       "      <td>F</td>\n",
       "      <td>Bachelor in Statics</td>\n",
       "      <td>90.80</td>\n",
       "    </tr>\n",
       "    <tr>\n",
       "      <th>14</th>\n",
       "      <td>32</td>\n",
       "      <td>5</td>\n",
       "      <td>4.5</td>\n",
       "      <td>3.5</td>\n",
       "      <td>4.0</td>\n",
       "      <td>5.0</td>\n",
       "      <td>4.0</td>\n",
       "      <td>8.65</td>\n",
       "      <td>M</td>\n",
       "      <td>MTECH</td>\n",
       "      <td>81.50</td>\n",
       "    </tr>\n",
       "    <tr>\n",
       "      <th>16</th>\n",
       "      <td>36</td>\n",
       "      <td>8</td>\n",
       "      <td>3.7</td>\n",
       "      <td>4.0</td>\n",
       "      <td>5.0</td>\n",
       "      <td>4.0</td>\n",
       "      <td>3.5</td>\n",
       "      <td>8.51</td>\n",
       "      <td>M</td>\n",
       "      <td>Masters in statistics</td>\n",
       "      <td>79.20</td>\n",
       "    </tr>\n",
       "    <tr>\n",
       "      <th>18</th>\n",
       "      <td>32</td>\n",
       "      <td>6</td>\n",
       "      <td>4.0</td>\n",
       "      <td>4.0</td>\n",
       "      <td>3.5</td>\n",
       "      <td>3.5</td>\n",
       "      <td>4.0</td>\n",
       "      <td>8.42</td>\n",
       "      <td>M</td>\n",
       "      <td>MTECH</td>\n",
       "      <td>76.70</td>\n",
       "    </tr>\n",
       "  </tbody>\n",
       "</table>\n",
       "</div>"
      ],
      "text/plain": [
       "    Age   Experience   Python/R  Statistics  Data Visualisation  \\\n",
       "0    34             8       4.0         4.0                 4.0   \n",
       "3    36             7       5.0         4.0                 5.0   \n",
       "5    32             6       4.0         4.0                 4.0   \n",
       "7    35             7       4.0         3.5                 5.0   \n",
       "12   38             7       5.0         5.0                 5.0   \n",
       "14   32             5       4.5         3.5                 4.0   \n",
       "16   36             8       3.7         4.0                 5.0   \n",
       "18   32             6       4.0         4.0                 3.5   \n",
       "\n",
       "    Data Wrangling  Machine Learning Algorithm  Average CGPA Gender  \\\n",
       "0              3.5                         4.0          8.50      M   \n",
       "3              5.0                         4.0          9.40      F   \n",
       "5              4.0                         4.0          7.89      M   \n",
       "7              5.0                         4.0          8.42      F   \n",
       "12             5.0                         5.0          8.91      F   \n",
       "14             5.0                         4.0          8.65      M   \n",
       "16             4.0                         3.5          8.51      M   \n",
       "18             3.5                         4.0          8.42      M   \n",
       "\n",
       "                Education  Attrition  \n",
       "0                     PHD      77.75  \n",
       "3   Masters in statistics      89.25  \n",
       "5                   BTECH      75.70  \n",
       "7                     PHD      78.35  \n",
       "12    Bachelor in Statics      90.80  \n",
       "14                  MTECH      81.50  \n",
       "16  Masters in statistics      79.20  \n",
       "18                  MTECH      76.70  "
      ]
     },
     "execution_count": 77,
     "metadata": {},
     "output_type": "execute_result"
    }
   ],
   "source": [
    "data[data['Attrition']>75]"
   ]
  },
  {
   "cell_type": "code",
   "execution_count": 78,
   "metadata": {},
   "outputs": [
    {
     "data": {
      "image/png": "[encoded data removed]",
      "text/plain": [
       "<Figure size 1440x720 with 6 Axes>"
      ]
     },
     "metadata": {
      "needs_background": "light"
     },
     "output_type": "display_data"
    }
   ],
   "source": [
    "plt.figure(figsize=(20,10))\n",
    "plt.subplot(2,3,1)\n",
    "plt.bar(height=data['Attrition'],x=data['Python/R'])\n",
    "plt.xlabel(\"Python/R rating\")\n",
    "plt.ylabel(\" Resume Percentage\")\n",
    "plt.title(\"Percentage vs Python/R\")\n",
    "plt.grid()\n",
    "plt.subplot(2,3,2)\n",
    "plt.bar(height=data['Attrition'],x=data['Statistics'],color='r')\n",
    "plt.ylabel('Resume percentage')\n",
    "plt.xlabel(\"Statistics rating\")\n",
    "plt.title(\"pecentage vs Statistics\")\n",
    "plt.grid()\n",
    "plt.subplot(2,3,3)\n",
    "plt.bar(height=data['Attrition'],x=data['Data Visualisation'],color='g')\n",
    "plt.xlabel(\"Data Visualisation rating\")\n",
    "plt.ylabel(\"Resume percentage\")\n",
    "plt.title(\"Resume Percentage vs Data visualisation rating\")\n",
    "plt.grid()\n",
    "plt.subplot(2,3,4)\n",
    "plt.bar(height=data['Attrition'],x=data['Data Wrangling'],color='brown')\n",
    "plt.xlabel(\"Resume percentage\")\n",
    "plt.ylabel(\"Data Wrangling rating\")\n",
    "plt.title(\"Resume percentage vs Data Wrangling rating\")\n",
    "plt.grid()\n",
    "plt.subplot(2,3,5)\n",
    "plt.bar(height=data['Attrition'],x=data['Machine Learning Algorithm'],color='yellow')\n",
    "plt.xlabel(\"Machine Learning Algorithm\")\n",
    "plt.ylabel(\"Resume Percentage\")\n",
    "plt.title(\"Machine Learning Algorithm vs Resume Percentage\")\n",
    "plt.grid()\n",
    "plt.subplot(2,3,6)\n",
    "plt.bar(height=data['Attrition'],x=data['Average CGPA'],color='pink')\n",
    "plt.xlabel(\"Average CGPA\")\n",
    "plt.ylabel(\"Resume Percentage\")\n",
    "plt.title(\"Resume percentage vs Average CGPA\")\n",
    "plt.grid()"
   ]
  },
  {
   "cell_type": "code",
   "execution_count": 141,
   "metadata": {},
   "outputs": [],
   "source": [
    "X=data.iloc[:,1:-3].values\n",
    "Y=data.iloc[:,-1].values"
   ]
  },
  {
   "cell_type": "code",
   "execution_count": 142,
   "metadata": {},
   "outputs": [
    {
     "data": {
      "text/plain": [
       "(19, 7)"
      ]
     },
     "execution_count": 142,
     "metadata": {},
     "output_type": "execute_result"
    }
   ],
   "source": [
    "X.shape"
   ]
  },
  {
   "cell_type": "code",
   "execution_count": 143,
   "metadata": {},
   "outputs": [],
   "source": [
    "from sklearn.model_selection import train_test_split\n",
    "X_train,X_test,Y_train,Y_test=train_test_split(X,Y,test_size=0.35,random_state=0)"
   ]
  },
  {
   "cell_type": "code",
   "execution_count": 145,
   "metadata": {},
   "outputs": [],
   "source": [
    "from sklearn.linear_model import LinearRegression\n",
    "from sklearn.metrics import mean_squared_error\n",
    "from math import sqrt"
   ]
  },
  {
   "cell_type": "code",
   "execution_count": 146,
   "metadata": {},
   "outputs": [],
   "source": [
    "reg=LinearRegression()"
   ]
  },
  {
   "cell_type": "code",
   "execution_count": 147,
   "metadata": {},
   "outputs": [
    {
     "data": {
      "text/plain": [
       "LinearRegression(copy_X=True, fit_intercept=True, n_jobs=None, normalize=False)"
      ]
     },
     "execution_count": 147,
     "metadata": {},
     "output_type": "execute_result"
    }
   ],
   "source": [
    "reg.fit(X_train,Y_train)"
   ]
  },
  {
   "cell_type": "code",
   "execution_count": 148,
   "metadata": {},
   "outputs": [],
   "source": [
    "y_pred=reg.predict(X_test)"
   ]
  },
  {
   "cell_type": "code",
   "execution_count": 149,
   "metadata": {},
   "outputs": [
    {
     "data": {
      "text/plain": [
       "Text(0.5, 1.0, 'Y_test vs y_pred')"
      ]
     },
     "execution_count": 149,
     "metadata": {},
     "output_type": "execute_result"
    },
    {
     "data": {
      "image/png": "[encoded data removed]",
      "text/plain": [
       "<Figure size 360x360 with 1 Axes>"
      ]
     },
     "metadata": {
      "needs_background": "light"
     },
     "output_type": "display_data"
    }
   ],
   "source": [
    "plt.figure(figsize=(5,5))\n",
    "plt.scatter(Y_test,y_pred,color='green')\n",
    "plt.xlabel(\"Y_test\")\n",
    "plt.ylabel(\"y_pred\")\n",
    "plt.title(\"Y_test vs y_pred\")"
   ]
  },
  {
   "cell_type": "code",
   "execution_count": 157,
   "metadata": {},
   "outputs": [
    {
     "data": {
      "text/plain": [
       "0.9754445720524486"
      ]
     },
     "execution_count": 157,
     "metadata": {},
     "output_type": "execute_result"
    }
   ],
   "source": [
    "from sklearn.metrics import accuracy_score\n",
    "(y_pred/Y_test).mean() "
   ]
  },
  {
   "cell_type": "code",
   "execution_count": null,
   "metadata": {},
   "outputs": [],
   "source": []
  }
 ],
 "metadata": {
  "kernelspec": {
   "display_name": "Python 3",
   "language": "python",
   "name": "python3"
  },
  "language_info": {
   "codemirror_mode": {
    "name": "ipython",
    "version": 3
   },
   "file_extension": ".py",
   "mimetype": "text/x-python",
   "name": "python",
   "nbconvert_exporter": "python",
   "pygments_lexer": "ipython3",
   "version": "3.6.8"
  }
 },
 "nbformat": 4,
 "nbformat_minor": 2
}
